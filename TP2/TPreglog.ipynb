{
 "cells": [
  {
   "cell_type": "markdown",
   "metadata": {},
   "source": [
    "# TP 2 : Régression logistique\n",
    "\n",
    "## 1 Régularisation de Tikhonov\n",
    "\n",
    "### 1.1 : Étude de $f_1$\n",
    "\n",
    "**Calcul du gradient :**\n",
    "\n",
    "$\\frac{df_1}{dw_0} (w_0, w)= \\frac 1 n \\sum_{i=1}^n{\\frac{-y_i}{1+exp(y_i(w_i^T⋅w + w_0))}}$\n",
    "\n",
    "\n",
    "$\\frac{df_1}{dw} (w_0, w)= \\frac 1 n \\sum_{i=1}^n{\\frac{-y_i⋅x_i}{1+exp(y_i(w_i^T⋅w + w_0))}} + \\rho ⋅ w$\n",
    "\n",
    "**Calcul de la hessienne :**\n",
    "\n",
    "$\\frac{d^2 f_1}{dw_0^2} (w_0, w)= \\frac 1 n \\sum_{i=1}^n{\\frac{y_i^2⋅exp(y_i(w_i^T⋅w + w_0))}{(1+exp(y_i(w_i^T⋅w + w_0)))^2}} \\\n",
    "= \\frac 1 n \\sum_{i=1}^n{\\frac{y_i^2}{(1+exp(\\frac{y_i}{2} (w_i^T⋅w + w_0)))^2}}$"
   ]
  },
  {
   "cell_type": "code",
   "execution_count": null,
   "metadata": {
    "collapsed": true
   },
   "outputs": [],
   "source": []
  }
 ],
 "metadata": {
  "kernelspec": {
   "display_name": "Python 3",
   "language": "python",
   "name": "python3"
  },
  "language_info": {
   "codemirror_mode": {
    "name": "ipython",
    "version": 3
   },
   "file_extension": ".py",
   "mimetype": "text/x-python",
   "name": "python",
   "nbconvert_exporter": "python",
   "pygments_lexer": "ipython3",
   "version": "3.5.2"
  }
 },
 "nbformat": 4,
 "nbformat_minor": 2
}
