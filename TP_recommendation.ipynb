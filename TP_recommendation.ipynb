{
 "cells": [
  {
   "cell_type": "markdown",
   "metadata": {
    "deletable": true,
    "editable": true
   },
   "source": [
    "# TP Recommendation\n",
    "Loïc Herbelot\n",
    "\n",
    "### Question 1.1 : Chargement des données"
   ]
  },
  {
   "cell_type": "code",
   "execution_count": 105,
   "metadata": {
    "collapsed": true,
    "deletable": true,
    "editable": true
   },
   "outputs": [],
   "source": [
    "import numpy as np\n",
    "from scipy import sparse\n",
    "\n",
    "\n",
    "def load_movielens(filename, minidata=False):\n",
    "    \"\"\"\n",
    "    Cette fonction lit le fichier filename de la base de donnees\n",
    "    Movielens, par exemple \n",
    "    filename = '~/datasets/ml-100k/u.data'\n",
    "    Elle retourne \n",
    "    R : une matrice utilisateur-item contenant les scores\n",
    "    mask : une matrice valant 1 si il y a un score et 0 sinon\n",
    "    \"\"\"\n",
    "\n",
    "    data = np.loadtxt(filename, dtype=int)\n",
    "\n",
    "    R = sparse.coo_matrix((data[:, 2], (data[:, 0]-1, data[:, 1]-1)),\n",
    "                          dtype=float)\n",
    "    R = R.toarray()  # not optimized for big data\n",
    "\n",
    "    # code la fonction 1_K\n",
    "    mask = sparse.coo_matrix((np.ones(data[:, 2].shape),\n",
    "                              (data[:, 0]-1, data[:, 1]-1)), dtype=bool )\n",
    "    mask = mask.toarray()  # not optimized for big data\n",
    "\n",
    "    if minidata is True:\n",
    "        R = R[0:100, 0:200].copy()\n",
    "        mask = mask[0:100, 0:200].copy()\n",
    "\n",
    "    return R, mask\n",
    "\n",
    "\n",
    "def objective(P, Q0, R, mask, rho):\n",
    "    \"\"\"\n",
    "    La fonction objectif du probleme simplifie.\n",
    "    Prend en entree \n",
    "    P : la variable matricielle de taille C x I\n",
    "    Q0 : une matrice de taille U x C\n",
    "    R : une matrice de taille U x I\n",
    "    mask : une matrice 0-1 de taille U x I\n",
    "    rho : un reel positif ou nul\n",
    "\n",
    "    Sorties :\n",
    "    val : la valeur de la fonction\n",
    "    grad_P : le gradient par rapport a P\n",
    "    \"\"\"\n",
    "\n",
    "    tmp = (R - Q0.dot(P)) * mask\n",
    "\n",
    "    val = np.sum(tmp ** 2)/2. + rho/2. * (np.sum(Q0 ** 2) + np.sum(P ** 2))\n",
    "\n",
    "    grad_P = -Q0.T.dot(tmp) + rho*P\n",
    "\n",
    "    return val, grad_P\n",
    "\n",
    "\n",
    "def total_objective(P, Q, R, mask, rho):\n",
    "    \"\"\"\n",
    "    La fonction objectif du probleme complet.\n",
    "    Prend en entree \n",
    "    P : la variable matricielle de taille C x I\n",
    "    Q : la variable matricielle de taille U x C\n",
    "    R : une matrice de taille U x I\n",
    "    mask : une matrice 0-1 de taille U x I\n",
    "    rho : un reel positif ou nul\n",
    "\n",
    "    Sorties :\n",
    "    val : la valeur de la fonction\n",
    "    grad_P : le gradient par rapport a P\n",
    "    grad_Q : le gradient par rapport a Q\n",
    "    \"\"\"\n",
    "\n",
    "    tmp = (R - Q.dot(P)) * mask\n",
    "\n",
    "    val = np.sum(tmp ** 2)/2. + rho/2. * (np.sum(Q ** 2) + np.sum(P ** 2))\n",
    "\n",
    "    grad_P = 0  # todo\n",
    "\n",
    "    grad_Q = 0  # todo\n",
    "\n",
    "    return val, grad_P, grad_Q\n",
    "\n",
    "\n",
    "def total_objective_vectorized(PQvec, R, mask, rho):\n",
    "    \"\"\"\n",
    "    Vectorisation de la fonction precedente de maniere a ne pas\n",
    "    recoder la fonction gradient\n",
    "    \"\"\"\n",
    "\n",
    "    # reconstruction de P et Q\n",
    "    n_items = R.shape[1]\n",
    "    n_users = R.shape[0]\n",
    "    F = PQvec.shape[0] / (n_items + n_users)\n",
    "    Pvec = PQvec[0:n_items*F]\n",
    "    Qvec = PQvec[n_items*F:]\n",
    "    P = np.reshape(Pvec, (F, n_items))\n",
    "    Q = np.reshape(Qvec, (n_users, F))\n",
    "\n",
    "    val, grad_P, grad_Q = total_objective(P, Q, R, mask, rho)\n",
    "    return val, np.concatenate([grad_P.ravel(), grad_Q.ravel()])\n"
   ]
  },
  {
   "cell_type": "code",
   "execution_count": 106,
   "metadata": {
    "collapsed": false,
    "deletable": true,
    "editable": true
   },
   "outputs": [
    {
     "name": "stdout",
     "output_type": "stream",
     "text": [
      "Taille de R: (943, 1682)\n",
      "Taille de mask: (943, 1682)\n"
     ]
    }
   ],
   "source": [
    "import numpy as np\n",
    "\n",
    "filename = \"ml-100k/u.data\"\n",
    "\n",
    "#sans \"minidata\"\n",
    "R, mask = load_movielens(filename)\n",
    "print(\"Taille de R:\", R.shape)\n",
    "print(\"Taille de mask:\", mask.shape)"
   ]
  },
  {
   "cell_type": "code",
   "execution_count": 107,
   "metadata": {
    "collapsed": false,
    "deletable": true,
    "editable": true
   },
   "outputs": [
    {
     "name": "stdout",
     "output_type": "stream",
     "text": [
      "Taille de R_mini: (100, 200)\n",
      "Taille de mask_mini: (100, 200)\n"
     ]
    }
   ],
   "source": [
    "#avec \"minidata\"\n",
    "R_mini, mask_mini = load_movielens(filename, minidata=True)\n",
    "print(\"Taille de R_mini:\", R_mini.shape)\n",
    "print(\"Taille de mask_mini:\", mask_mini.shape)"
   ]
  },
  {
   "cell_type": "markdown",
   "metadata": {
    "deletable": true,
    "editable": true
   },
   "source": [
    "### Fonction de `minidata` :\n",
    "Comme on peut le voir dans le code source, l'argument `minidata` sert à indiquer si l'on veut une plus petite partie des informations, seulement 100 lignes et 200 colonnes.\n",
    "\n",
    "### Question 1.2 : Informations sur les données"
   ]
  },
  {
   "cell_type": "code",
   "execution_count": 108,
   "metadata": {
    "collapsed": false,
    "deletable": true,
    "editable": true
   },
   "outputs": [
    {
     "name": "stdout",
     "output_type": "stream",
     "text": [
      "Contenu du fichier d'info : \n",
      "943 users\n",
      "1682 items\n",
      "100000 ratings\n",
      "\n"
     ]
    }
   ],
   "source": [
    "with open(\"ml-100k/u.info\") as f:\n",
    "    print(\"Contenu du fichier d'info : \\n\"+ f.read())"
   ]
  },
  {
   "cell_type": "markdown",
   "metadata": {
    "deletable": true,
    "editable": true
   },
   "source": [
    "On voit qu'on a donc :\n",
    " * 943 utilisateurs\n",
    " * 1682 films\n",
    " * Pour un total de 100 000 notes."
   ]
  },
  {
   "cell_type": "markdown",
   "metadata": {
    "deletable": true,
    "editable": true
   },
   "source": [
    "### Question 1.3 : Étude de la fonction objectif\n",
    "\n",
    "Ici j'ai tracé la fonction avec deux variables :\n",
    "![Graphe de la fonction objectif avec deux variables](plot_objective_2_var.png)\n",
    "\n",
    "\n",
    "On voit donc que la fonction n'est pas convexe.\n",
    "\n",
    "Le gradient de f est :\n",
    "\n",
    "$\\nabla f(P,Q) = (Q^T (1_K ⋅ (QP-R)) + \\rho P, 1_K ⋅ (QP-R)P^T + \\rho Q)$\n",
    "\n",
    "Le gradient de $f$ n'est pas lipschitzien, car ses dérivées partielles ne sont pas bornées.\n",
    "\n",
    "Exemple en dimension 1 :\n",
    "$f(x,y) = \\frac 1 2 (r- xy)^2 + \\frac \\rho 2 (x^2 + y^2) $\n",
    "\n",
    "$\\frac{df}{dx}(x) = x(y^2 + \\rho) - yr$ et n'est pas bornée"
   ]
  },
  {
   "cell_type": "markdown",
   "metadata": {
    "deletable": true,
    "editable": true
   },
   "source": [
    "### Question 2.1 :\n",
    "\n",
    "La fonction $g$ est convexe.\n",
    "\n",
    "Son gradient vaut : $\\nabla g(P) = -{Q^0}^T(1_K ⋅ (R - Q^0*P)) + \\rho P $\n",
    "\n"
   ]
  },
  {
   "cell_type": "markdown",
   "metadata": {
    "deletable": true,
    "editable": true
   },
   "source": [
    "### Question 2.2 : Calcul du gradient de $g$"
   ]
  },
  {
   "cell_type": "code",
   "execution_count": 109,
   "metadata": {
    "collapsed": false,
    "deletable": true,
    "editable": true
   },
   "outputs": [
    {
     "name": "stdout",
     "output_type": "stream",
     "text": [
      "Vérification sautée.\n"
     ]
    }
   ],
   "source": [
    "from scipy.optimize import check_grad\n",
    "\n",
    "# Initialisation des variables :\n",
    "rho = 0.2\n",
    "P = np.random.random((7, 1682))*100\n",
    "\n",
    "# Fonctions utilisées pour la vérification du gradient :\n",
    "\n",
    "# def g(P):\n",
    "#     \"\"\" Renvoie la sortie de la fonction objectif.\n",
    "#     :param P: un vecteur ligne de 7*1682 éléments\n",
    "#     :return : la sortie de la fonction objectif.\"\"\"\n",
    "#     P = P.reshape((7, 1682))\n",
    "#     return objective(P, Q0, R, mask, rho)[0]\n",
    "\n",
    "# def grad_g(P):\n",
    "#     \"\"\"Renvoie le gradient de la fonction objectif au point P.\n",
    "#     :param P: un vecteur ligne de 7*1682 éléments\n",
    "#     :return: le gradient sous forme de vecteur ligne.\"\"\"\n",
    "#     P = P.reshape((7, 1682))\n",
    "#     return objective(P, Q0, R, mask, rho)[1].ravel()\n",
    "\n",
    "# Activer/Désactiver la vérification du gradient :\n",
    "verif = False # Choix de l'utilisateur\n",
    "if verif :\n",
    "    # Attention, calcul très long :\n",
    "    print(\"Erreur sur le gradient :\")\n",
    "    for i in range(1):\n",
    "        Q0 = np.random.random((943, 7))\n",
    "        P = np.random.random((7, 1682))\n",
    "        print(\"Vérification n°%d :\" % i)\n",
    "        print(check_grad(lambda P:objective(P.reshape((7, 1682)), Q0, R, mask, rho)[0],\n",
    "                         lambda P:objective(P.reshape((7, 1682)), Q0, R, mask, rho)[1].ravel(),\n",
    "                         P.ravel()))\n",
    "else :\n",
    "    print(\"Vérification sautée.\")\n"
   ]
  },
  {
   "cell_type": "markdown",
   "metadata": {
    "deletable": true,
    "editable": true
   },
   "source": [
    "### Question 2.3 : Gradient à pas constant"
   ]
  },
  {
   "cell_type": "code",
   "execution_count": 110,
   "metadata": {
    "collapsed": false,
    "deletable": true,
    "editable": true
   },
   "outputs": [],
   "source": [
    "from scipy.sparse.linalg import svds\n",
    "\n",
    "def gradient(objective, P0, gamma=1, epsilon=1, n_iter=1000, verbose=True):\n",
    "    \"\"\" Minimise une fonction objectif par la méthode du gradient à pas constant.\n",
    "    :param g:       La fonction à minimiser\n",
    "    :param P0:      Le point de départ\n",
    "    :param gamma:   Le pas\n",
    "    :param epsilon: Critère d'arrêt : norme du gradient inférieure à epsilon\n",
    "    :param n_iter:  Le nombre maximum d'itérations\n",
    "    \n",
    "    :return: Le point qui minimise la fonction, la valeur de la fonction en ce point, et son gradient\n",
    "    \"\"\"\n",
    "    #Q0 est la matrice des 7 vecteurs singuliers à gauche de R\n",
    "    # (|C| = 7)\n",
    "    rho = 0.2\n",
    "    Q0, s, vt = svds(R, min(7, min(R.shape)))\n",
    "    # Pour avoir tout le temps le même Q0 :\n",
    "    for i in range(Q0.shape[1]):\n",
    "        Q0[...,i] *= np.sign(Q0[0,i]) \n",
    "#     print(\"Q0:\",Q0[:3,:3])\n",
    "#     print(\"R:\",R[:3,:3])\n",
    "#     print(\"mask:\",mask[:3,:3])\n",
    "    x = P0\n",
    "    grad = objective(x, Q0, R, mask, rho)[1]\n",
    "    i = 0\n",
    "#     L = rho + np.linalg.norm(Q0.T.dot(Q0), 'fro')\n",
    "#     gamma = 1/L\n",
    "    while i < n_iter and np.linalg.norm(grad, 'fro') > epsilon:\n",
    "        x -= gamma * grad\n",
    "        val, grad = objective(x, Q0, R, mask, rho)\n",
    "        if i%10 == 0 and verbose:\n",
    "            print(\"Iteration n°%5d, g(x) = %E\" % (i, val))\n",
    "        i += 1\n",
    "    if verbose:\n",
    "        print(\"Valeur maximale du gradient en ce point : \",np.max(grad))\n",
    "    return x, val, grad"
   ]
  },
  {
   "cell_type": "markdown",
   "metadata": {
    "deletable": true,
    "editable": true
   },
   "source": [
    "### Question 2.4 : Démonstration de la fonction `gradient` :"
   ]
  },
  {
   "cell_type": "code",
   "execution_count": 111,
   "metadata": {
    "collapsed": false,
    "deletable": true,
    "editable": true
   },
   "outputs": [
    {
     "name": "stdout",
     "output_type": "stream",
     "text": [
      "Iteration n°    0, g(x) = 2.510641E+08\n",
      "Iteration n°   10, g(x) = 1.513685E+06\n",
      "Iteration n°   20, g(x) = 3.086310E+05\n",
      "Iteration n°   30, g(x) = 2.979350E+05\n",
      "Iteration n°   40, g(x) = 2.978283E+05\n",
      "Valeur maximale du gradient en ce point :  0.00360485130878\n",
      "Minimum trouvé : 2.978272E+05\n",
      "\n",
      "-- Retrouvons les valeurs :\n",
      "Minimum trouvé : 2.978272E+05\n",
      "Valeur maximale du gradient en ce point :  0.00360485130878\n",
      "\n",
      "-- 10 valeurs au hasard :\n",
      "g(P) = 6.232252E+08\n",
      "g(P) = 6.221720E+08\n",
      "g(P) = 6.216858E+08\n",
      "g(P) = 6.295080E+10\n",
      "g(P) = 6.226462E+10\n",
      "g(P) = 6.276031E+08\n",
      "g(P) = 6.360091E+10\n",
      "g(P) = 6.216095E+06\n",
      "g(P) = 6.119699E+08\n",
      "g(P) = 6.247651E+08\n"
     ]
    }
   ],
   "source": [
    "# Trouvons le P qui minimise g :\n",
    "P_min, val, grad = gradient(objective, np.random.random((7, 1682))*1000, 1, 0.1, n_iter=1000)\n",
    "print(\"Minimum trouvé : %E\" % val)\n",
    "\n",
    "# Vérification :\n",
    "rho = 0.2\n",
    "Q0, s, vt = svds(R, min(7, min(R.shape)))\n",
    "# Pour avoir tout le temps le même Q0 :\n",
    "for i in range(Q0.shape[1]):\n",
    "    Q0[...,i] *= np.sign(Q0[0,i]) \n",
    "# print(\"Q0:\",Q0[:3,:3])\n",
    "# print(\"R:\",R[:3,:3])\n",
    "# print(\"mask:\",mask[:3,:3])\n",
    "val_v, grad_v = objective(P_min, Q0, R, mask, rho)\n",
    "print(\"\\n-- Retrouvons les valeurs :\")\n",
    "print(\"Minimum trouvé : %E\" % val_v)\n",
    "print(\"Valeur maximale du gradient en ce point : \",np.max(grad_v))\n",
    "\n",
    "\n",
    "# Essayons 10 valeurs au hasard pour vérifier la pertinence du résultat :\n",
    "print(\"\\n-- 10 valeurs au hasard :\")\n",
    "for i in range(10):\n",
    "    # J'évite de prendre des matrices \"proches\" de 0, \n",
    "    # sinon on ne pourrait pas voir comment se comporte g.\n",
    "    # Je multiplie une matrice \"random\" par 10^[un entier au hasard]\n",
    "    exp = np.random.randint(-1, 5)\n",
    "    P = np.random.random((7, 1682))*10**exp\n",
    "    rand_val = objective(P, Q0, R, mask, rho)[0]\n",
    "    if rand_val < val:\n",
    "        print(\"Nouveau minimum trouvé :\")\n",
    "    print(\"g(P) = %E\" % (rand_val))\n",
    "    \n"
   ]
  },
  {
   "cell_type": "markdown",
   "metadata": {
    "deletable": true,
    "editable": true
   },
   "source": [
    "### Question 3.1 : Recherche linéaire :"
   ]
  },
  {
   "cell_type": "code",
   "execution_count": 122,
   "metadata": {
    "collapsed": false,
    "deletable": true,
    "editable": true
   },
   "outputs": [
    {
     "name": "stdout",
     "output_type": "stream",
     "text": [
      "Iteration n°    0, g(x) = 6.223391E+05\n",
      "Iteration n°  100, g(x) = 2.978949E+05\n",
      "()\n",
      "(7, 1682)\n",
      "Minimum trouvé : 2.978291E+05\n",
      "Valeur maximale du gradient en ce point :  0.0389871818733\n",
      "Fin de la fonction lin_gradient.\n",
      "\n",
      "Début de la vérification\n",
      "\n",
      "-- Valeurs renvoyées par la fonction :\n",
      "Minimum trouvé : 2.978291E+05\n",
      "Valeur maximale du gradient en ce point :  0.0389871818733\n",
      "\n",
      "-- Retrouvons les valeurs objectif : \n",
      "Minimum trouvé : 2.978291E+05\n",
      "Valeur maximale du gradient en ce point :  0.0389871818733\n",
      "\n",
      "-- 10 valeurs au hasard :\n",
      "g(P) = 6.674244E+05\n",
      "g(P) = 6.649596E+05\n",
      "g(P) = 6.703088E+05\n",
      "g(P) = 6.730589E+05\n",
      "g(P) = 6.271316E+06\n",
      "g(P) = 6.699229E+05\n",
      "g(P) = 6.789845E+05\n",
      "g(P) = 6.313953E+10\n",
      "g(P) = 6.271528E+10\n",
      "g(P) = 6.790300E+05\n"
     ]
    }
   ],
   "source": [
    "from scipy.sparse.linalg import svds\n",
    "\n",
    "def lin_gradient(g, P0, epsilon=1, n_iter=1000, verbose=True):\n",
    "    \"\"\" Minimise la fonction objectif par la méthode du gradient à pas constant.\n",
    "    :param g:       La fonction à minimiser\n",
    "    :param P0:      Le point de départ\n",
    "    :param epsilon: Critère d'arrêt : norme du gradient inférieure à epsilon\n",
    "    :param n_iter:  Le nombre maximum d'itérations\n",
    "    \n",
    "    :return: Le point qui minimise la fonction, la valeur de la fonction en ce point, et son gradient\n",
    "    \"\"\"\n",
    "    #Q0 est la matrice des 7 vecteurs singuliers à gauche de R\n",
    "    # (|C| = 7)\n",
    "    rho = 0.2\n",
    "    Q0, s, vt = svds(R, min(7, min(R.shape)))\n",
    "    # Pour avoir tout le temps le même Q0 :\n",
    "    for i in range(Q0.shape[1]):\n",
    "        Q0[...,i] *= np.sign(Q0[0,i]) \n",
    "    x = P0\n",
    "    val, grad = objective(x, Q0, R, mask, rho)\n",
    "    i = 0\n",
    "    gamma_values = np.linspace(0.1, 10, 100)\n",
    "#     L = rho + np.linalg.norm(Q0.T.dot(Q0), 'fro')\n",
    "#     gamma = 1/L\n",
    "    while i < n_iter and np.linalg.norm(grad, 'fro') > epsilon:\n",
    "        g = lambda x:objective(x, Q0, R, mask, rho)[0]\n",
    "        id_argmin = np.argmin(lambda gamma: g(x - gamma*grad))\n",
    "        x -= gamma_values[id_argmin] * grad\n",
    "        val, grad = objective(x, Q0, R, mask, rho)\n",
    "        # Affichage des résultats :\n",
    "        if i%100 == 0 and verbose:\n",
    "            print(\"Iteration n°%5d, g(x) = %E\" % (i, val))\n",
    "        i += 1\n",
    "    if verbose:\n",
    "        print(val.shape)\n",
    "        print(grad.shape)\n",
    "        print(\"Minimum trouvé : %E\" % val)\n",
    "        print(\"Valeur maximale du gradient en ce point : \",np.max(grad))\n",
    "    return x, val, grad\n",
    "\n",
    "\n",
    "# Trouvons le P qui minimise g :\n",
    "P_min, val, grad = lin_gradient(g, np.random.random((7, 1682)), 1, n_iter=1000)\n",
    "print(\"Fin de la fonction lin_gradient.\\n\")\n",
    "print(\"Début de la vérification\")\n",
    "print(\"\\n-- Valeurs renvoyées par la fonction :\")\n",
    "print(\"Minimum trouvé : %E\" % val)\n",
    "print(\"Valeur maximale du gradient en ce point : \",np.max(grad))\n",
    "print(\"\\n-- Retrouvons les valeurs objectif : \")\n",
    "rho = 0.2\n",
    "Q0, s, vt = svds(R, min(7, min(R.shape)))\n",
    "# Pour avoir tout le temps le même Q0 :\n",
    "for i in range(Q0.shape[1]):\n",
    "    Q0[...,i] *= np.sign(Q0[0,i]) \n",
    "val, grad = objective(P_min, Q0, R, mask, rho)\n",
    "print(\"Minimum trouvé : %E\" % val)\n",
    "print(\"Valeur maximale du gradient en ce point : \",np.max(grad))\n",
    "\n",
    "# Essayons 10 valeurs au hasard pour vérifier la pertinence du résultat :\n",
    "print(\"\\n-- 10 valeurs au hasard :\")\n",
    "for i in range(10):\n",
    "    # J'évite de prendre des matrices \"proches\" de 0, \n",
    "    # sinon on ne pourrait pas voir comment se comporte g.\n",
    "    # Je multiplie une matrice \"random\" par 10^[un entier au hasard]\n",
    "    exp = np.random.randint(-1, 5)\n",
    "    P = np.random.random((7, 1682))*10**exp\n",
    "    rand_val = objective(P, Q0, R, mask, rho)[0]\n",
    "    if rand_val < val:\n",
    "        print(\"Nouveau minimum trouvé :\")\n",
    "    print(\"g(P) = %E\" % (rand_val))"
   ]
  },
  {
   "cell_type": "markdown",
   "metadata": {
    "collapsed": true,
    "deletable": true,
    "editable": true
   },
   "source": [
    "### Question 3.2 : Gradient conjugué :"
   ]
  },
  {
   "cell_type": "code",
   "execution_count": 141,
   "metadata": {
    "collapsed": false,
    "deletable": true,
    "editable": true
   },
   "outputs": [
    {
     "name": "stdout",
     "output_type": "stream",
     "text": [
      "Optimization terminated successfully.\n",
      "         Current function value: 297829.056960\n",
      "         Iterations: 0\n",
      "         Function evaluations: 1\n",
      "         Gradient evaluations: 1\n",
      "Fin de la fonction conj_gradient.\n",
      "\n",
      "\n",
      "-- Vérification :\n",
      "Valeur en P_tilde : 2.978291E+05\n",
      "Valeur maximale du gradient en ce point :  0.0320287853276\n"
     ]
    }
   ],
   "source": [
    "from scipy.optimize import fmin_cg\n",
    "\n",
    "def conj_gradient(g, epsilon=1, n_iter=1000, verbose=True):\n",
    "    \"\"\" Minimise une fonction objectif par la méthode du gradient à pas constant.\n",
    "    :param g:       La fonction à minimiser\n",
    "    :param P0:      Le point de départ\n",
    "    :param epsilon: Critère d'arrêt : norme du gradient inférieure à epsilon\n",
    "    :param n_iter:  Le nombre maximum d'itérations\n",
    "    \n",
    "    :return: Le point qui minimise la fonction, la valeur de la fonction en ce point, \n",
    "    et son gradient\n",
    "    \"\"\"\n",
    "    #Q0 est la matrice des 7 vecteurs singuliers à gauche de R\n",
    "    # (|C| = 7)\n",
    "    rho = 0.2\n",
    "    Q0, s, vt = svds(R, min(7, min(R.shape)))\n",
    "    # Pour avoir tout le temps le même Q0 :\n",
    "    for i in range(Q0.shape[1]):\n",
    "        Q0[...,i] *= np.sign(Q0[0,i]) \n",
    "        \n",
    "    approx_P, val, grad = lin_gradient(f, np.random.random((7, 1682)), 1, \n",
    "                                       n_iter=10, verbose=False)\n",
    "    g = lambda P:objective(P.reshape((7, 1682)), Q0, R, mask, rho)[0]\n",
    "    g_prime = lambda P:objective(P.reshape((7, 1682)), Q0, R, mask, rho)[1].ravel()\n",
    "    return fmin_cg(g, P.ravel(), g_prime, \n",
    "                   gtol=epsilon, maxiter=n_iter, disp=verbose).reshape((7, 1682))\n",
    "\n",
    "rho = 0.2\n",
    "Q0, s, vt = svds(R, min(7, min(R.shape)))\n",
    "# Pour avoir tout le temps le même Q0 :\n",
    "for i in range(Q0.shape[1]):\n",
    "    Q0[...,i] *= np.sign(Q0[0,i]) \n",
    "P_tilde = conj_gradient(g,1)\n",
    "print(\"Fin de la fonction conj_gradient.\\n\")\n",
    "print(\"\\n-- Vérification :\")\n",
    "val, grad = objective(P_tilde, Q0, R,mask, rho)\n",
    "print(\"Valeur en P_tilde : %E\" % val)\n",
    "print(\"Valeur maximale du gradient en ce point : \",np.max(grad))"
   ]
  },
  {
   "cell_type": "markdown",
   "metadata": {
    "collapsed": true,
    "deletable": true,
    "editable": true
   },
   "source": [
    "### Question 3.3 : Comparaison des algos :\n"
   ]
  },
  {
   "cell_type": "code",
   "execution_count": 142,
   "metadata": {
    "collapsed": false
   },
   "outputs": [
    {
     "name": "stdout",
     "output_type": "stream",
     "text": [
      "Méthode utilisée : 'constant_step'....................\n",
      "Méthode utilisée : 'linear'....................\n",
      "Méthode utilisée : 'conjugate'....................\n"
     ]
    }
   ],
   "source": [
    "import time \n",
    "mult = [10.**e for e in np.random.randint(-1, 5, size=20)]\n",
    "rand_mat = [np.random.random((7, 1682)) * mul for mul in mult]\n",
    "\n",
    "methods = {\"constant_step\":{\"scores\":[],\"times\":[], \"func\":gradient},\n",
    "           \"linear\":       {\"scores\":[],\"times\":[], \"func\":lin_gradient},\n",
    "           \"conjugate\":       {\"scores\":[],\"times\":[], \"func\":conj_gradient}}\n",
    "\n",
    "rho = 0.2\n",
    "Q0, s, vt = svds(R, min(7, min(R.shape)))\n",
    "# Pour avoir tout le temps le même Q0 :\n",
    "for i in range(Q0.shape[1]):\n",
    "    Q0[...,i] *= np.sign(Q0[0,i]) \n",
    "    \n",
    "for meth in (\"constant_step\", \"linear\"):\n",
    "    print(\"Méthode utilisée : '%s'\" % meth, end='')\n",
    "    for mat in rand_mat:\n",
    "        print('.', end='')\n",
    "        t1 = time.clock()\n",
    "        P = methods[meth][\"func\"](objective, mat, verbose=False)[0]\n",
    "        methods[meth][\"times\"].append(time.clock() - t1)\n",
    "        methods[meth][\"scores\"].append(objective(P, Q0, R, mask, rho)[0])\n",
    "    print()\n",
    "    \n",
    "meth = \"conjugate\"\n",
    "print(\"Méthode utilisée : '%s'\" % meth, end='')\n",
    "for mat in rand_mat:\n",
    "    print('.', end='')\n",
    "    t1 = time.clock()\n",
    "    P = methods[meth][\"func\"](objective, verbose=False)\n",
    "    methods[meth][\"times\"].append(time.clock() - t1)\n",
    "    methods[meth][\"scores\"].append(objective(P, Q0, R, mask, rho)[0])\n",
    "print()"
   ]
  },
  {
   "cell_type": "code",
   "execution_count": 143,
   "metadata": {
    "collapsed": false
   },
   "outputs": [
    {
     "data": {
      "image/png": "[encoded data removed]",
      "text/plain": [
       "<matplotlib.figure.Figure at 0x7f61dbdc0160>"
      ]
     },
     "metadata": {},
     "output_type": "display_data"
    }
   ],
   "source": [
    "import matplotlib.pyplot as plt\n",
    "%matplotlib inline\n",
    "for meth in methods.keys():\n",
    "    plt.scatter(methods[meth][\"times\"], methods[meth][\"scores\"])"
   ]
  },
  {
   "cell_type": "code",
   "execution_count": null,
   "metadata": {
    "collapsed": true
   },
   "outputs": [],
   "source": []
  },
  {
   "cell_type": "code",
   "execution_count": null,
   "metadata": {
    "collapsed": true
   },
   "outputs": [],
   "source": []
  }
 ],
 "metadata": {
  "kernelspec": {
   "display_name": "Python 3",
   "language": "python",
   "name": "python3"
  },
  "language_info": {
   "codemirror_mode": {
    "name": "ipython",
    "version": 3
   },
   "file_extension": ".py",
   "mimetype": "text/x-python",
   "name": "python",
   "nbconvert_exporter": "python",
   "pygments_lexer": "ipython3",
   "version": "3.5.2"
  }
 },
 "nbformat": 4,
 "nbformat_minor": 2
}
